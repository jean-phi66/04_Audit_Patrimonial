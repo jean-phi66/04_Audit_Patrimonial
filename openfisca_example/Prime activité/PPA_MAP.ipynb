{
 "cells": [
  {
   "cell_type": "markdown",
   "metadata": {},
   "source": [
    "# Mise au point Simulateur prime activité"
   ]
  },
  {
   "cell_type": "code",
   "execution_count": 33,
   "metadata": {},
   "outputs": [],
   "source": [
    "from openfisca_france.entities import entities\n",
    "from openfisca_france import FranceTaxBenefitSystem\n",
    "from openfisca_core.simulation_builder import SimulationBuilder\n",
    "\n",
    "from openfisca_france.scenarios import init_single_entity\n",
    "\n",
    "import numpy as np\n",
    "import pandas as pd\n",
    "\n",
    "import plotly.express as px\n",
    "\n",
    "from pprint import pprint"
   ]
  },
  {
   "cell_type": "code",
   "execution_count": 34,
   "metadata": {},
   "outputs": [],
   "source": [
    "legislation_france = FranceTaxBenefitSystem()"
   ]
  },
  {
   "cell_type": "code",
   "execution_count": 35,
   "metadata": {},
   "outputs": [],
   "source": [
    "TEST_CASE = {\n",
    "    'individus': {\n",
    "        'parent1': {\n",
    "            #'age': {'2024-01': 46},\n",
    "            'date_naissance': {'ETERNITY': '1978-06-02'},\n",
    "            #'salaire_de_base': {'2023': 23115,'2024': 23115, '2025': 23115}\n",
    "            'salaire_net': {'2023': 23115,'2024': 23115, '2025': 23115},\n",
    "            'revenus_capital':{'2021': 0,'2022': 0,'2023': 0,'2024': 0, '2025': 3600}\n",
    "        },\n",
    "        'enfant1': {\n",
    "            'date_naissance': {'ETERNITY': '2010-07-28'}\n",
    "#            'age': {'2024-01': 8}\n",
    "        },\n",
    "        'enfant2': {\n",
    "            'date_naissance': {'ETERNITY': '2013-04-19'}\n",
    "#            'age': {'2024-01': 12}\n",
    "        }\n",
    "    }\n",
    "}\n",
    "TEST_CASE['foyers_fiscaux'] = {\n",
    "    'foyer_fiscal1': {\n",
    "        'declarants': ['parent1'],\n",
    "        'personnes_a_charge': ['enfant1', 'enfant2'],\n",
    "        'celibataire_ou_divorce': {'2023': True, '2024': True, '2025': True},\n",
    "        'caseT': {'2023': True, '2024': True, '2025': True}\n",
    "    }\n",
    "}\n",
    "\n",
    "TEST_CASE['menages'] = {\n",
    "    'menage1': {\n",
    "        'personne_de_reference': ['parent1'],\n",
    "        'enfants': ['enfant1', 'enfant2'],\n",
    "        'statut_occupation_logement': {'2023': 'primo_accedant', '2024': 'primo_accedant'}\n",
    "        #'statut_occupation_logement': {'2023': 'locataire_vide', '2024': 'locataire_vide', '2025': 'locataire_vide'}\n",
    "    }\n",
    "}\n",
    "\n",
    "TEST_CASE['familles'] = {\n",
    "    'famille1': {\n",
    "        'parents': ['parent1'],\n",
    "        'enfants': ['enfant1', 'enfant2'],\n",
    "        'rsa_forfait_asf': {'2023': 0, '2024': 0},\n",
    "        'af': {'2023': 0, '2024': 0},\n",
    "    }\n",
    "}\n"
   ]
  },
  {
   "cell_type": "code",
   "execution_count": 36,
   "metadata": {},
   "outputs": [
    {
     "name": "stdout",
     "output_type": "stream",
     "text": [
      "Prime d'activité: 333.01733\n",
      "Prestations familiales prises en compte:  [0.]\n",
      "Allocation familiales [0.]\n",
      "[1926.25    0.      0.  ]\n",
      "[0. 0. 0.]\n"
     ]
    }
   ],
   "source": [
    "simulation_builder = SimulationBuilder()\n",
    "simulation_PPA = simulation_builder.build_from_entities(legislation_france, TEST_CASE)\n",
    "\n",
    "#print(simulation_PPA.calculate('ppa', '2023-09'))\n",
    "#print(simulation_PPA.calculate('ppa', '2025-09'))\n",
    "def elements_calculs_ppa(simulation_PPA, period, array=False):\n",
    "    forfait_logement = simulation_PPA.calculate('ppa_forfait_logement', period)\n",
    "    elig = simulation_PPA.calculate('ppa_eligibilite', period)\n",
    "    montant_forfaitaire_familialise = simulation_PPA.calculate('ppa_fictive_montant_forfaitaire', period)\n",
    "    ppa_base_ressources = simulation_PPA.calculate('ppa_base_ressources', period)\n",
    "    ppa_fictive_ressource_activite = simulation_PPA.calculate('ppa_fictive_ressource_activite', period)\n",
    "    bonification_i = simulation_PPA.calculate('ppa_bonification', period)\n",
    "    ppa_fictive = simulation_PPA.calculate('ppa_fictive', period)\n",
    "    ppa = simulation_PPA.calculate('ppa', period)\n",
    "    #bonification = simulation_PPA.calculate(bonification_i)\n",
    "    if array == False : \n",
    "        return {'elig': elig[0],\n",
    "                'ppa': ppa[0],\n",
    "                'forfait_logement': forfait_logement[0],  \n",
    "                'montant_forfaitaire_familialise': montant_forfaitaire_familialise[0], \n",
    "                'ppa_base_ressources': ppa_base_ressources[0], \n",
    "                'ppa_fictive_ressource_activite': ppa_fictive_ressource_activite[0], \n",
    "                'bonification_i': bonification_i[0],\n",
    "                'ppa_fictive': ppa_fictive[0]}\n",
    "    else:\n",
    "        return {'elig': elig,\n",
    "                'ppa': ppa,\n",
    "                'forfait_logement': forfait_logement,  \n",
    "                'montant_forfaitaire_familialise': montant_forfaitaire_familialise, \n",
    "                'ppa_base_ressources': ppa_base_ressources, \n",
    "                'ppa_fictive_ressource_activite': ppa_fictive_ressource_activite, \n",
    "                'bonification_i': bonification_i,\n",
    "                'ppa_fictive': ppa_fictive}\n",
    "\n",
    "period_sim = '2024-05'\n",
    "elem_ppa = elements_calculs_ppa(simulation_PPA, period_sim)\n",
    "ppa_montant_base = (\n",
    "            elem_ppa['montant_forfaitaire_familialise']\n",
    "            + elem_ppa['bonification_i']\n",
    "            + elem_ppa['ppa_fictive_ressource_activite']\n",
    "            - elem_ppa['ppa_base_ressources']\n",
    "            - elem_ppa['forfait_logement']\n",
    "            )\n",
    "ppa_deduction = (\n",
    "             elem_ppa['montant_forfaitaire_familialise']\n",
    "            -  elem_ppa['ppa_base_ressources']\n",
    "            -  elem_ppa['forfait_logement']\n",
    "            )\n",
    "ppa_fictive = ppa_montant_base - max(ppa_deduction, 0)\n",
    "ppa_fictive = max(ppa_fictive, 0)\n",
    "\n",
    "if(False):\n",
    "    prestations = [\n",
    "            'paje_base',\n",
    "            'paje_clca',\n",
    "            'paje_prepare',\n",
    "            'paje_colca',\n",
    "            'rsa_forfait_asf'\n",
    "            ]\n",
    "    for prest in prestations:\n",
    "        print(prest, simulation_PPA.calculate(prest, period_sim))\n",
    "\n",
    "print(\"Prime d'activité:\", elem_ppa['ppa'])\n",
    "print('Prestations familiales prises en compte: ', simulation_PPA.calculate('ppa_base_ressources_prestations_familiales', period_sim))\n",
    "print(\"Allocation familiales\", simulation_PPA.calculate('af', period_sim))\n",
    "print(simulation_PPA.calculate('salaire_net', period_sim))\n",
    "print(simulation_PPA.calculate('ppa_ressources_hors_activite_individu', period_sim))\n"
   ]
  },
  {
   "cell_type": "code",
   "execution_count": 37,
   "metadata": {},
   "outputs": [
    {
     "name": "stdout",
     "output_type": "stream",
     "text": [
      "Montant forfaitaire: 1120.734\n",
      "Montant de la bonification:  181.19\n",
      "Montant base ressource:  1926.25\n",
      "Montant fictive:  1175.0126\n",
      "Montant forfait logement:  184.92111\n",
      "Montant de la PPA:  333.01733\n"
     ]
    }
   ],
   "source": [
    "\n",
    "\n",
    "print(\"Montant forfaitaire:\", simulation_PPA.calculate('ppa_fictive_montant_forfaitaire', period_sim)[0])\n",
    "print(\"Montant de la bonification: \", simulation_PPA.calculate('ppa_bonification', period_sim)[0])\n",
    "print(\"Montant base ressource: \", simulation_PPA.calculate('ppa_base_ressources', period_sim)[0])\n",
    "print(\"Montant fictive: \", simulation_PPA.calculate('ppa_fictive_ressource_activite', period_sim)[0])\n",
    "print(\"Montant forfait logement: \", simulation_PPA.calculate('ppa_forfait_logement', period_sim)[0])\n",
    "\n",
    "print(\"Montant de la PPA: \", simulation_PPA.calculate('ppa', period_sim)[0])\n"
   ]
  },
  {
   "cell_type": "markdown",
   "metadata": {},
   "source": [
    "## Simulation évolution du salaire"
   ]
  },
  {
   "cell_type": "code",
   "execution_count": 38,
   "metadata": {},
   "outputs": [
    {
     "data": {
      "text/html": [
       "<div>\n",
       "<style scoped>\n",
       "    .dataframe tbody tr th:only-of-type {\n",
       "        vertical-align: middle;\n",
       "    }\n",
       "\n",
       "    .dataframe tbody tr th {\n",
       "        vertical-align: top;\n",
       "    }\n",
       "\n",
       "    .dataframe thead th {\n",
       "        text-align: right;\n",
       "    }\n",
       "</style>\n",
       "<table border=\"1\" class=\"dataframe\">\n",
       "  <thead>\n",
       "    <tr style=\"text-align: right;\">\n",
       "      <th></th>\n",
       "      <th>salaire</th>\n",
       "      <th>ppa</th>\n",
       "    </tr>\n",
       "  </thead>\n",
       "  <tbody>\n",
       "    <tr>\n",
       "      <th>0</th>\n",
       "      <td>0.000000</td>\n",
       "      <td>0.000000</td>\n",
       "    </tr>\n",
       "    <tr>\n",
       "      <th>1</th>\n",
       "      <td>251.256271</td>\n",
       "      <td>0.000000</td>\n",
       "    </tr>\n",
       "    <tr>\n",
       "      <th>2</th>\n",
       "      <td>502.512543</td>\n",
       "      <td>25.544449</td>\n",
       "    </tr>\n",
       "    <tr>\n",
       "      <th>3</th>\n",
       "      <td>753.768982</td>\n",
       "      <td>38.316608</td>\n",
       "    </tr>\n",
       "    <tr>\n",
       "      <th>4</th>\n",
       "      <td>1005.025085</td>\n",
       "      <td>51.088764</td>\n",
       "    </tr>\n",
       "    <tr>\n",
       "      <th>...</th>\n",
       "      <td>...</td>\n",
       "      <td>...</td>\n",
       "    </tr>\n",
       "    <tr>\n",
       "      <th>195</th>\n",
       "      <td>48994.972656</td>\n",
       "      <td>0.000000</td>\n",
       "    </tr>\n",
       "    <tr>\n",
       "      <th>196</th>\n",
       "      <td>49246.222656</td>\n",
       "      <td>0.000000</td>\n",
       "    </tr>\n",
       "    <tr>\n",
       "      <th>197</th>\n",
       "      <td>49497.480469</td>\n",
       "      <td>0.000000</td>\n",
       "    </tr>\n",
       "    <tr>\n",
       "      <th>198</th>\n",
       "      <td>49748.734375</td>\n",
       "      <td>0.000000</td>\n",
       "    </tr>\n",
       "    <tr>\n",
       "      <th>199</th>\n",
       "      <td>50000.003906</td>\n",
       "      <td>0.000000</td>\n",
       "    </tr>\n",
       "  </tbody>\n",
       "</table>\n",
       "<p>200 rows × 2 columns</p>\n",
       "</div>"
      ],
      "text/plain": [
       "          salaire        ppa\n",
       "0        0.000000   0.000000\n",
       "1      251.256271   0.000000\n",
       "2      502.512543  25.544449\n",
       "3      753.768982  38.316608\n",
       "4     1005.025085  51.088764\n",
       "..            ...        ...\n",
       "195  48994.972656   0.000000\n",
       "196  49246.222656   0.000000\n",
       "197  49497.480469   0.000000\n",
       "198  49748.734375   0.000000\n",
       "199  50000.003906   0.000000\n",
       "\n",
       "[200 rows x 2 columns]"
      ]
     },
     "execution_count": 38,
     "metadata": {},
     "output_type": "execute_result"
    }
   ],
   "source": [
    "TEST_CASE_SIMU = TEST_CASE.copy()\n",
    "TEST_CASE_SIMU['axes']= [[{'count':200, 'name':'salaire_net', 'min':0, 'max': 50000, 'period':'2024'}]]\n",
    "simulation_builder = SimulationBuilder()\n",
    "simulation_per = simulation_builder.build_from_entities(legislation_france, TEST_CASE_SIMU)\n",
    "sdb = simulation_per.calculate_add('salaire_net', '2024')\n",
    "salaire = sdb.reshape(200,3).sum(1)\n",
    "ppa = simulation_per.calculate('ppa', '2024-05')\n",
    "\n",
    "pd.DataFrame.from_dict({'salaire': salaire, 'ppa': ppa})\n"
   ]
  },
  {
   "cell_type": "code",
   "execution_count": 39,
   "metadata": {},
   "outputs": [
    {
     "data": {
      "text/html": [
       "<div>\n",
       "<style scoped>\n",
       "    .dataframe tbody tr th:only-of-type {\n",
       "        vertical-align: middle;\n",
       "    }\n",
       "\n",
       "    .dataframe tbody tr th {\n",
       "        vertical-align: top;\n",
       "    }\n",
       "\n",
       "    .dataframe thead th {\n",
       "        text-align: right;\n",
       "    }\n",
       "</style>\n",
       "<table border=\"1\" class=\"dataframe\">\n",
       "  <thead>\n",
       "    <tr style=\"text-align: right;\">\n",
       "      <th></th>\n",
       "      <th>elig</th>\n",
       "      <th>ppa</th>\n",
       "      <th>forfait_logement</th>\n",
       "      <th>montant_forfaitaire_familialise</th>\n",
       "      <th>ppa_base_ressources</th>\n",
       "      <th>ppa_fictive_ressource_activite</th>\n",
       "      <th>bonification_i</th>\n",
       "      <th>ppa_fictive</th>\n",
       "      <th>salaire</th>\n",
       "      <th>salaire mensuel</th>\n",
       "    </tr>\n",
       "  </thead>\n",
       "  <tbody>\n",
       "    <tr>\n",
       "      <th>0</th>\n",
       "      <td>True</td>\n",
       "      <td>0.000000</td>\n",
       "      <td>184.921112</td>\n",
       "      <td>1120.734009</td>\n",
       "      <td>0.000000</td>\n",
       "      <td>0.000000</td>\n",
       "      <td>0.000000</td>\n",
       "      <td>0.000031</td>\n",
       "      <td>0.000000</td>\n",
       "      <td>0.000000</td>\n",
       "    </tr>\n",
       "    <tr>\n",
       "      <th>1</th>\n",
       "      <td>True</td>\n",
       "      <td>0.000000</td>\n",
       "      <td>184.921112</td>\n",
       "      <td>1120.734009</td>\n",
       "      <td>20.938025</td>\n",
       "      <td>12.772195</td>\n",
       "      <td>0.000000</td>\n",
       "      <td>12.772189</td>\n",
       "      <td>251.256271</td>\n",
       "      <td>20.938023</td>\n",
       "    </tr>\n",
       "    <tr>\n",
       "      <th>2</th>\n",
       "      <td>True</td>\n",
       "      <td>25.544449</td>\n",
       "      <td>184.921112</td>\n",
       "      <td>1120.734009</td>\n",
       "      <td>41.876049</td>\n",
       "      <td>25.544390</td>\n",
       "      <td>0.000000</td>\n",
       "      <td>25.544470</td>\n",
       "      <td>502.512543</td>\n",
       "      <td>41.876045</td>\n",
       "    </tr>\n",
       "    <tr>\n",
       "      <th>3</th>\n",
       "      <td>True</td>\n",
       "      <td>38.316608</td>\n",
       "      <td>184.921112</td>\n",
       "      <td>1120.734009</td>\n",
       "      <td>62.814072</td>\n",
       "      <td>38.316586</td>\n",
       "      <td>0.000000</td>\n",
       "      <td>38.316631</td>\n",
       "      <td>753.768982</td>\n",
       "      <td>62.814083</td>\n",
       "    </tr>\n",
       "    <tr>\n",
       "      <th>4</th>\n",
       "      <td>True</td>\n",
       "      <td>51.088764</td>\n",
       "      <td>184.921112</td>\n",
       "      <td>1120.734009</td>\n",
       "      <td>83.752098</td>\n",
       "      <td>51.088779</td>\n",
       "      <td>0.000000</td>\n",
       "      <td>51.088787</td>\n",
       "      <td>1005.025085</td>\n",
       "      <td>83.752090</td>\n",
       "    </tr>\n",
       "    <tr>\n",
       "      <th>...</th>\n",
       "      <td>...</td>\n",
       "      <td>...</td>\n",
       "      <td>...</td>\n",
       "      <td>...</td>\n",
       "      <td>...</td>\n",
       "      <td>...</td>\n",
       "      <td>...</td>\n",
       "      <td>...</td>\n",
       "      <td>...</td>\n",
       "      <td>...</td>\n",
       "    </tr>\n",
       "    <tr>\n",
       "      <th>195</th>\n",
       "      <td>True</td>\n",
       "      <td>0.000000</td>\n",
       "      <td>184.921112</td>\n",
       "      <td>1120.734009</td>\n",
       "      <td>4082.914795</td>\n",
       "      <td>2490.578125</td>\n",
       "      <td>181.190002</td>\n",
       "      <td>0.000000</td>\n",
       "      <td>48994.972656</td>\n",
       "      <td>4082.914307</td>\n",
       "    </tr>\n",
       "    <tr>\n",
       "      <th>196</th>\n",
       "      <td>True</td>\n",
       "      <td>0.000000</td>\n",
       "      <td>184.921112</td>\n",
       "      <td>1120.734009</td>\n",
       "      <td>4103.852539</td>\n",
       "      <td>2503.350098</td>\n",
       "      <td>181.190002</td>\n",
       "      <td>0.000000</td>\n",
       "      <td>49246.222656</td>\n",
       "      <td>4103.852051</td>\n",
       "    </tr>\n",
       "    <tr>\n",
       "      <th>197</th>\n",
       "      <td>True</td>\n",
       "      <td>0.000000</td>\n",
       "      <td>184.921112</td>\n",
       "      <td>1120.734009</td>\n",
       "      <td>4124.790527</td>\n",
       "      <td>2516.122314</td>\n",
       "      <td>181.190002</td>\n",
       "      <td>0.000000</td>\n",
       "      <td>49497.480469</td>\n",
       "      <td>4124.790039</td>\n",
       "    </tr>\n",
       "    <tr>\n",
       "      <th>198</th>\n",
       "      <td>True</td>\n",
       "      <td>0.000000</td>\n",
       "      <td>184.921112</td>\n",
       "      <td>1120.734009</td>\n",
       "      <td>4145.728516</td>\n",
       "      <td>2528.894531</td>\n",
       "      <td>181.190002</td>\n",
       "      <td>0.000000</td>\n",
       "      <td>49748.734375</td>\n",
       "      <td>4145.728027</td>\n",
       "    </tr>\n",
       "    <tr>\n",
       "      <th>199</th>\n",
       "      <td>True</td>\n",
       "      <td>0.000000</td>\n",
       "      <td>184.921112</td>\n",
       "      <td>1120.734009</td>\n",
       "      <td>4166.666504</td>\n",
       "      <td>2541.666748</td>\n",
       "      <td>181.190002</td>\n",
       "      <td>0.000000</td>\n",
       "      <td>50000.003906</td>\n",
       "      <td>4166.666992</td>\n",
       "    </tr>\n",
       "  </tbody>\n",
       "</table>\n",
       "<p>200 rows × 10 columns</p>\n",
       "</div>"
      ],
      "text/plain": [
       "     elig        ppa  forfait_logement  montant_forfaitaire_familialise  \\\n",
       "0    True   0.000000        184.921112                      1120.734009   \n",
       "1    True   0.000000        184.921112                      1120.734009   \n",
       "2    True  25.544449        184.921112                      1120.734009   \n",
       "3    True  38.316608        184.921112                      1120.734009   \n",
       "4    True  51.088764        184.921112                      1120.734009   \n",
       "..    ...        ...               ...                              ...   \n",
       "195  True   0.000000        184.921112                      1120.734009   \n",
       "196  True   0.000000        184.921112                      1120.734009   \n",
       "197  True   0.000000        184.921112                      1120.734009   \n",
       "198  True   0.000000        184.921112                      1120.734009   \n",
       "199  True   0.000000        184.921112                      1120.734009   \n",
       "\n",
       "     ppa_base_ressources  ppa_fictive_ressource_activite  bonification_i  \\\n",
       "0               0.000000                        0.000000        0.000000   \n",
       "1              20.938025                       12.772195        0.000000   \n",
       "2              41.876049                       25.544390        0.000000   \n",
       "3              62.814072                       38.316586        0.000000   \n",
       "4              83.752098                       51.088779        0.000000   \n",
       "..                   ...                             ...             ...   \n",
       "195          4082.914795                     2490.578125      181.190002   \n",
       "196          4103.852539                     2503.350098      181.190002   \n",
       "197          4124.790527                     2516.122314      181.190002   \n",
       "198          4145.728516                     2528.894531      181.190002   \n",
       "199          4166.666504                     2541.666748      181.190002   \n",
       "\n",
       "     ppa_fictive       salaire  salaire mensuel  \n",
       "0       0.000031      0.000000         0.000000  \n",
       "1      12.772189    251.256271        20.938023  \n",
       "2      25.544470    502.512543        41.876045  \n",
       "3      38.316631    753.768982        62.814083  \n",
       "4      51.088787   1005.025085        83.752090  \n",
       "..           ...           ...              ...  \n",
       "195     0.000000  48994.972656      4082.914307  \n",
       "196     0.000000  49246.222656      4103.852051  \n",
       "197     0.000000  49497.480469      4124.790039  \n",
       "198     0.000000  49748.734375      4145.728027  \n",
       "199     0.000000  50000.003906      4166.666992  \n",
       "\n",
       "[200 rows x 10 columns]"
      ]
     },
     "execution_count": 39,
     "metadata": {},
     "output_type": "execute_result"
    }
   ],
   "source": [
    "resultats_simu_ppa = elements_calculs_ppa(simulation_per, '2024-05', array=True)\n",
    "resultats_simu_ppa['bonification_i'] = resultats_simu_ppa['bonification_i'].reshape(200, 3).sum(1)\n",
    "resultats_simu_ppa['salaire'] = salaire\n",
    "resultats_simu_ppa['salaire mensuel'] = salaire / 12\n",
    "df_resultats_simu_ppa = pd.DataFrame.from_dict(resultats_simu_ppa)\n",
    "df_resultats_simu_ppa"
   ]
  },
  {
   "cell_type": "code",
   "execution_count": 42,
   "metadata": {},
   "outputs": [
    {
     "data": {
      "application/vnd.plotly.v1+json": {
       "config": {
        "plotlyServerURL": "https://plot.ly"
       },
       "data": [
        {
         "hovertemplate": "salaire mensuel=%{x}<br>ppa=%{y}<extra></extra>",
         "legendgroup": "",
         "line": {
          "color": "#636efa",
          "dash": "solid"
         },
         "marker": {
          "symbol": "circle"
         },
         "mode": "lines",
         "name": "",
         "orientation": "v",
         "showlegend": false,
         "type": "scatter",
         "x": [
          0,
          20.93802261352539,
          41.87604522705078,
          62.814083099365234,
          83.75209045410156,
          104.69010162353516,
          125.62816619873047,
          146.566162109375,
          167.50418090820312,
          188.4422149658203,
          209.3802032470703,
          230.3182830810547,
          251.25633239746094,
          272.1943054199219,
          293.13232421875,
          314.0703430175781,
          335.00836181640625,
          355.9463806152344,
          376.8844299316406,
          397.8224182128906,
          418.7604064941406,
          439.698486328125,
          460.6365661621094,
          481.5745849609375,
          502.5126647949219,
          523.4506225585938,
          544.3886108398438,
          565.3265991210938,
          586.2646484375,
          607.2026977539062,
          628.1406860351562,
          649.0786743164062,
          670.0167236328125,
          690.9546508789062,
          711.8927612304688,
          732.8308715820312,
          753.7688598632812,
          774.7069702148438,
          795.6448364257812,
          816.5829467773438,
          837.5208129882812,
          858.458984375,
          879.39697265625,
          900.3350219726562,
          921.2731323242188,
          942.2109985351562,
          963.149169921875,
          984.0869750976562,
          1005.0253295898438,
          1025.9630126953125,
          1046.9012451171875,
          1067.839111328125,
          1088.7772216796875,
          1109.715087890625,
          1130.6531982421875,
          1151.5914306640625,
          1172.529296875,
          1193.467529296875,
          1214.4053955078125,
          1235.343505859375,
          1256.2813720703125,
          1277.219482421875,
          1298.1573486328125,
          1319.0955810546875,
          1340.033447265625,
          1360.9715576171875,
          1381.9093017578125,
          1402.8475341796875,
          1423.7855224609375,
          1444.7236328125,
          1465.6617431640625,
          1486.599609375,
          1507.5377197265625,
          1528.4757080078125,
          1549.4139404296875,
          1570.3516845703125,
          1591.2896728515625,
          1612.2279052734375,
          1633.1658935546875,
          1654.1036376953125,
          1675.0416259765625,
          1695.9803466796875,
          1716.91796875,
          1737.8555908203125,
          1758.7939453125,
          1779.7322998046875,
          1800.6700439453125,
          1821.60791015625,
          1842.5462646484375,
          1863.4842529296875,
          1884.4219970703125,
          1905.3599853515625,
          1926.29833984375,
          1947.2362060546875,
          1968.1739501953125,
          1989.1126708984375,
          2010.0506591796875,
          2030.98828125,
          2051.926025390625,
          2072.864013671875,
          2093.802490234375,
          2114.740478515625,
          2135.67822265625,
          2156.61669921875,
          2177.554443359375,
          2198.492431640625,
          2219.43017578125,
          2240.36865234375,
          2261.306396484375,
          2282.244384765625,
          2303.182861328125,
          2324.120849609375,
          2345.05859375,
          2365.996337890625,
          2386.93505859375,
          2407.872802734375,
          2428.810791015625,
          2449.74853515625,
          2470.68701171875,
          2491.624755859375,
          2512.562744140625,
          2533.50048828125,
          2554.43896484375,
          2575.376953125,
          2596.314697265625,
          2617.253173828125,
          2638.191162109375,
          2659.12890625,
          2680.06689453125,
          2701.00537109375,
          2721.943115234375,
          2742.881103515625,
          2763.818603515625,
          2784.757568359375,
          2805.695068359375,
          2826.633056640625,
          2847.571044921875,
          2868.509521484375,
          2889.447265625,
          2910.385009765625,
          2931.323486328125,
          2952.261474609375,
          2973.19921875,
          2994.136962890625,
          3015.075439453125,
          3036.013427734375,
          3056.951416015625,
          3077.889404296875,
          3098.827880859375,
          3119.765625,
          3140.703369140625,
          3161.641357421875,
          3182.579345703125,
          3203.517578125,
          3224.455810546875,
          3245.393798828125,
          3266.331787109375,
          3287.26953125,
          3308.207275390625,
          3329.145751953125,
          3350.083251953125,
          3371.022216796875,
          3391.960693359375,
          3412.898193359375,
          3433.8359375,
          3454.773681640625,
          3475.711181640625,
          3496.649658203125,
          3517.587890625,
          3538.526123046875,
          3559.464599609375,
          3580.402099609375,
          3601.340087890625,
          3622.277587890625,
          3643.2158203125,
          3664.153564453125,
          3685.092529296875,
          3706.031005859375,
          3726.968505859375,
          3747.90625,
          3768.843994140625,
          3789.781494140625,
          3810.719970703125,
          3831.657470703125,
          3852.5966796875,
          3873.534912109375,
          3894.472412109375,
          3915.410400390625,
          3936.347900390625,
          3957.2861328125,
          3978.225341796875,
          3999.162841796875,
          4020.101318359375,
          4041.038818359375,
          4061.9765625,
          4082.914306640625,
          4103.85205078125,
          4124.7900390625,
          4145.72802734375,
          4166.6669921875
         ],
         "xaxis": "x",
         "y": [
          0,
          0,
          25.544448852539062,
          38.31660842895508,
          51.08876419067383,
          63.8609733581543,
          76.63320922851562,
          89.40536499023438,
          102.17755889892578,
          114.9497299194336,
          127.72197723388672,
          140.494140625,
          153.26634216308594,
          166.03857421875,
          178.81072998046875,
          191.5828857421875,
          204.35516357421875,
          217.1273193359375,
          229.8994903564453,
          242.67164611816406,
          255.4439239501953,
          268.2160949707031,
          280.9882507324219,
          293.7605285644531,
          306.5326843261719,
          319.3049011230469,
          332.0770568847656,
          344.8492431640625,
          357.6214294433594,
          370.3936462402344,
          383.1658630371094,
          395.9380798339844,
          408.7102355957031,
          422.3745422363281,
          440.3287048339844,
          458.28271484375,
          476.23681640625,
          494.1908874511719,
          512.1449584960938,
          530.0990600585938,
          548.0531616210938,
          566.0072631835938,
          583.9613647460938,
          598.132568359375,
          602.1279296875,
          603.9906005859375,
          601.0066528320312,
          598.0227661132812,
          595.038818359375,
          592.0548706054688,
          589.0709228515625,
          586.0869750976562,
          583.10302734375,
          580.1190795898438,
          577.1351928710938,
          574.1511840820312,
          571.1672973632812,
          568.183349609375,
          565.1994018554688,
          562.2155151367188,
          559.2315063476562,
          556.2476196289062,
          553.263671875,
          550.2797241210938,
          547.2957153320312,
          544.3118286132812,
          541.327880859375,
          537.1442260742188,
          528.9784545898438,
          520.8125610351562,
          512.646728515625,
          504.48095703125,
          496.3150939941406,
          488.1492614746094,
          479.9834899902344,
          471.817626953125,
          463.6518249511719,
          455.4859313964844,
          447.320068359375,
          439.154296875,
          430.9884948730469,
          422.8226318359375,
          414.65673828125,
          406.490966796875,
          398.3251953125,
          390.1593017578125,
          381.9935302734375,
          373.82763671875,
          365.661865234375,
          357.4959716796875,
          349.3302001953125,
          341.164306640625,
          332.99853515625,
          324.8326416015625,
          316.6668701171875,
          308.5009765625,
          300.335205078125,
          292.1693115234375,
          284.0035400390625,
          275.8377685546875,
          267.671875,
          259.5059814453125,
          251.3402099609375,
          243.17431640625,
          235.008544921875,
          226.8427734375,
          218.6768798828125,
          210.5111083984375,
          202.3453369140625,
          194.179443359375,
          186.0135498046875,
          177.8477783203125,
          169.68190002441406,
          161.51612854003906,
          153.35023498535156,
          145.18446350097656,
          137.01856994628906,
          128.85279846191406,
          120.68701934814453,
          112.52112579345703,
          104.35535430908203,
          96.18946075439453,
          88.02368927001953,
          79.85779571533203,
          71.69202423095703,
          63.5261344909668,
          55.3603630065918,
          47.1945915222168,
          39.0285758972168,
          30.862802505493164,
          22.697031021118164,
          15.75975513458252,
          0,
          0,
          0,
          0,
          0,
          0,
          0,
          0,
          0,
          0,
          0,
          0,
          0,
          0,
          0,
          0,
          0,
          0,
          0,
          0,
          0,
          0,
          0,
          0,
          0,
          0,
          0,
          0,
          0,
          0,
          0,
          0,
          0,
          0,
          0,
          0,
          0,
          0,
          0,
          0,
          0,
          0,
          0,
          0,
          0,
          0,
          0,
          0,
          0,
          0,
          0,
          0,
          0,
          0,
          0,
          0,
          0,
          0,
          0,
          0,
          0,
          0,
          0,
          0,
          0,
          0,
          0,
          0
         ],
         "yaxis": "y"
        }
       ],
       "layout": {
        "legend": {
         "tracegroupgap": 0
        },
        "margin": {
         "t": 60
        },
        "template": {
         "data": {
          "bar": [
           {
            "error_x": {
             "color": "#2a3f5f"
            },
            "error_y": {
             "color": "#2a3f5f"
            },
            "marker": {
             "line": {
              "color": "#E5ECF6",
              "width": 0.5
             },
             "pattern": {
              "fillmode": "overlay",
              "size": 10,
              "solidity": 0.2
             }
            },
            "type": "bar"
           }
          ],
          "barpolar": [
           {
            "marker": {
             "line": {
              "color": "#E5ECF6",
              "width": 0.5
             },
             "pattern": {
              "fillmode": "overlay",
              "size": 10,
              "solidity": 0.2
             }
            },
            "type": "barpolar"
           }
          ],
          "carpet": [
           {
            "aaxis": {
             "endlinecolor": "#2a3f5f",
             "gridcolor": "white",
             "linecolor": "white",
             "minorgridcolor": "white",
             "startlinecolor": "#2a3f5f"
            },
            "baxis": {
             "endlinecolor": "#2a3f5f",
             "gridcolor": "white",
             "linecolor": "white",
             "minorgridcolor": "white",
             "startlinecolor": "#2a3f5f"
            },
            "type": "carpet"
           }
          ],
          "choropleth": [
           {
            "colorbar": {
             "outlinewidth": 0,
             "ticks": ""
            },
            "type": "choropleth"
           }
          ],
          "contour": [
           {
            "colorbar": {
             "outlinewidth": 0,
             "ticks": ""
            },
            "colorscale": [
             [
              0,
              "#0d0887"
             ],
             [
              0.1111111111111111,
              "#46039f"
             ],
             [
              0.2222222222222222,
              "#7201a8"
             ],
             [
              0.3333333333333333,
              "#9c179e"
             ],
             [
              0.4444444444444444,
              "#bd3786"
             ],
             [
              0.5555555555555556,
              "#d8576b"
             ],
             [
              0.6666666666666666,
              "#ed7953"
             ],
             [
              0.7777777777777778,
              "#fb9f3a"
             ],
             [
              0.8888888888888888,
              "#fdca26"
             ],
             [
              1,
              "#f0f921"
             ]
            ],
            "type": "contour"
           }
          ],
          "contourcarpet": [
           {
            "colorbar": {
             "outlinewidth": 0,
             "ticks": ""
            },
            "type": "contourcarpet"
           }
          ],
          "heatmap": [
           {
            "colorbar": {
             "outlinewidth": 0,
             "ticks": ""
            },
            "colorscale": [
             [
              0,
              "#0d0887"
             ],
             [
              0.1111111111111111,
              "#46039f"
             ],
             [
              0.2222222222222222,
              "#7201a8"
             ],
             [
              0.3333333333333333,
              "#9c179e"
             ],
             [
              0.4444444444444444,
              "#bd3786"
             ],
             [
              0.5555555555555556,
              "#d8576b"
             ],
             [
              0.6666666666666666,
              "#ed7953"
             ],
             [
              0.7777777777777778,
              "#fb9f3a"
             ],
             [
              0.8888888888888888,
              "#fdca26"
             ],
             [
              1,
              "#f0f921"
             ]
            ],
            "type": "heatmap"
           }
          ],
          "heatmapgl": [
           {
            "colorbar": {
             "outlinewidth": 0,
             "ticks": ""
            },
            "colorscale": [
             [
              0,
              "#0d0887"
             ],
             [
              0.1111111111111111,
              "#46039f"
             ],
             [
              0.2222222222222222,
              "#7201a8"
             ],
             [
              0.3333333333333333,
              "#9c179e"
             ],
             [
              0.4444444444444444,
              "#bd3786"
             ],
             [
              0.5555555555555556,
              "#d8576b"
             ],
             [
              0.6666666666666666,
              "#ed7953"
             ],
             [
              0.7777777777777778,
              "#fb9f3a"
             ],
             [
              0.8888888888888888,
              "#fdca26"
             ],
             [
              1,
              "#f0f921"
             ]
            ],
            "type": "heatmapgl"
           }
          ],
          "histogram": [
           {
            "marker": {
             "pattern": {
              "fillmode": "overlay",
              "size": 10,
              "solidity": 0.2
             }
            },
            "type": "histogram"
           }
          ],
          "histogram2d": [
           {
            "colorbar": {
             "outlinewidth": 0,
             "ticks": ""
            },
            "colorscale": [
             [
              0,
              "#0d0887"
             ],
             [
              0.1111111111111111,
              "#46039f"
             ],
             [
              0.2222222222222222,
              "#7201a8"
             ],
             [
              0.3333333333333333,
              "#9c179e"
             ],
             [
              0.4444444444444444,
              "#bd3786"
             ],
             [
              0.5555555555555556,
              "#d8576b"
             ],
             [
              0.6666666666666666,
              "#ed7953"
             ],
             [
              0.7777777777777778,
              "#fb9f3a"
             ],
             [
              0.8888888888888888,
              "#fdca26"
             ],
             [
              1,
              "#f0f921"
             ]
            ],
            "type": "histogram2d"
           }
          ],
          "histogram2dcontour": [
           {
            "colorbar": {
             "outlinewidth": 0,
             "ticks": ""
            },
            "colorscale": [
             [
              0,
              "#0d0887"
             ],
             [
              0.1111111111111111,
              "#46039f"
             ],
             [
              0.2222222222222222,
              "#7201a8"
             ],
             [
              0.3333333333333333,
              "#9c179e"
             ],
             [
              0.4444444444444444,
              "#bd3786"
             ],
             [
              0.5555555555555556,
              "#d8576b"
             ],
             [
              0.6666666666666666,
              "#ed7953"
             ],
             [
              0.7777777777777778,
              "#fb9f3a"
             ],
             [
              0.8888888888888888,
              "#fdca26"
             ],
             [
              1,
              "#f0f921"
             ]
            ],
            "type": "histogram2dcontour"
           }
          ],
          "mesh3d": [
           {
            "colorbar": {
             "outlinewidth": 0,
             "ticks": ""
            },
            "type": "mesh3d"
           }
          ],
          "parcoords": [
           {
            "line": {
             "colorbar": {
              "outlinewidth": 0,
              "ticks": ""
             }
            },
            "type": "parcoords"
           }
          ],
          "pie": [
           {
            "automargin": true,
            "type": "pie"
           }
          ],
          "scatter": [
           {
            "fillpattern": {
             "fillmode": "overlay",
             "size": 10,
             "solidity": 0.2
            },
            "type": "scatter"
           }
          ],
          "scatter3d": [
           {
            "line": {
             "colorbar": {
              "outlinewidth": 0,
              "ticks": ""
             }
            },
            "marker": {
             "colorbar": {
              "outlinewidth": 0,
              "ticks": ""
             }
            },
            "type": "scatter3d"
           }
          ],
          "scattercarpet": [
           {
            "marker": {
             "colorbar": {
              "outlinewidth": 0,
              "ticks": ""
             }
            },
            "type": "scattercarpet"
           }
          ],
          "scattergeo": [
           {
            "marker": {
             "colorbar": {
              "outlinewidth": 0,
              "ticks": ""
             }
            },
            "type": "scattergeo"
           }
          ],
          "scattergl": [
           {
            "marker": {
             "colorbar": {
              "outlinewidth": 0,
              "ticks": ""
             }
            },
            "type": "scattergl"
           }
          ],
          "scattermapbox": [
           {
            "marker": {
             "colorbar": {
              "outlinewidth": 0,
              "ticks": ""
             }
            },
            "type": "scattermapbox"
           }
          ],
          "scatterpolar": [
           {
            "marker": {
             "colorbar": {
              "outlinewidth": 0,
              "ticks": ""
             }
            },
            "type": "scatterpolar"
           }
          ],
          "scatterpolargl": [
           {
            "marker": {
             "colorbar": {
              "outlinewidth": 0,
              "ticks": ""
             }
            },
            "type": "scatterpolargl"
           }
          ],
          "scatterternary": [
           {
            "marker": {
             "colorbar": {
              "outlinewidth": 0,
              "ticks": ""
             }
            },
            "type": "scatterternary"
           }
          ],
          "surface": [
           {
            "colorbar": {
             "outlinewidth": 0,
             "ticks": ""
            },
            "colorscale": [
             [
              0,
              "#0d0887"
             ],
             [
              0.1111111111111111,
              "#46039f"
             ],
             [
              0.2222222222222222,
              "#7201a8"
             ],
             [
              0.3333333333333333,
              "#9c179e"
             ],
             [
              0.4444444444444444,
              "#bd3786"
             ],
             [
              0.5555555555555556,
              "#d8576b"
             ],
             [
              0.6666666666666666,
              "#ed7953"
             ],
             [
              0.7777777777777778,
              "#fb9f3a"
             ],
             [
              0.8888888888888888,
              "#fdca26"
             ],
             [
              1,
              "#f0f921"
             ]
            ],
            "type": "surface"
           }
          ],
          "table": [
           {
            "cells": {
             "fill": {
              "color": "#EBF0F8"
             },
             "line": {
              "color": "white"
             }
            },
            "header": {
             "fill": {
              "color": "#C8D4E3"
             },
             "line": {
              "color": "white"
             }
            },
            "type": "table"
           }
          ]
         },
         "layout": {
          "annotationdefaults": {
           "arrowcolor": "#2a3f5f",
           "arrowhead": 0,
           "arrowwidth": 1
          },
          "autotypenumbers": "strict",
          "coloraxis": {
           "colorbar": {
            "outlinewidth": 0,
            "ticks": ""
           }
          },
          "colorscale": {
           "diverging": [
            [
             0,
             "#8e0152"
            ],
            [
             0.1,
             "#c51b7d"
            ],
            [
             0.2,
             "#de77ae"
            ],
            [
             0.3,
             "#f1b6da"
            ],
            [
             0.4,
             "#fde0ef"
            ],
            [
             0.5,
             "#f7f7f7"
            ],
            [
             0.6,
             "#e6f5d0"
            ],
            [
             0.7,
             "#b8e186"
            ],
            [
             0.8,
             "#7fbc41"
            ],
            [
             0.9,
             "#4d9221"
            ],
            [
             1,
             "#276419"
            ]
           ],
           "sequential": [
            [
             0,
             "#0d0887"
            ],
            [
             0.1111111111111111,
             "#46039f"
            ],
            [
             0.2222222222222222,
             "#7201a8"
            ],
            [
             0.3333333333333333,
             "#9c179e"
            ],
            [
             0.4444444444444444,
             "#bd3786"
            ],
            [
             0.5555555555555556,
             "#d8576b"
            ],
            [
             0.6666666666666666,
             "#ed7953"
            ],
            [
             0.7777777777777778,
             "#fb9f3a"
            ],
            [
             0.8888888888888888,
             "#fdca26"
            ],
            [
             1,
             "#f0f921"
            ]
           ],
           "sequentialminus": [
            [
             0,
             "#0d0887"
            ],
            [
             0.1111111111111111,
             "#46039f"
            ],
            [
             0.2222222222222222,
             "#7201a8"
            ],
            [
             0.3333333333333333,
             "#9c179e"
            ],
            [
             0.4444444444444444,
             "#bd3786"
            ],
            [
             0.5555555555555556,
             "#d8576b"
            ],
            [
             0.6666666666666666,
             "#ed7953"
            ],
            [
             0.7777777777777778,
             "#fb9f3a"
            ],
            [
             0.8888888888888888,
             "#fdca26"
            ],
            [
             1,
             "#f0f921"
            ]
           ]
          },
          "colorway": [
           "#636efa",
           "#EF553B",
           "#00cc96",
           "#ab63fa",
           "#FFA15A",
           "#19d3f3",
           "#FF6692",
           "#B6E880",
           "#FF97FF",
           "#FECB52"
          ],
          "font": {
           "color": "#2a3f5f"
          },
          "geo": {
           "bgcolor": "white",
           "lakecolor": "white",
           "landcolor": "#E5ECF6",
           "showlakes": true,
           "showland": true,
           "subunitcolor": "white"
          },
          "hoverlabel": {
           "align": "left"
          },
          "hovermode": "closest",
          "mapbox": {
           "style": "light"
          },
          "paper_bgcolor": "white",
          "plot_bgcolor": "#E5ECF6",
          "polar": {
           "angularaxis": {
            "gridcolor": "white",
            "linecolor": "white",
            "ticks": ""
           },
           "bgcolor": "#E5ECF6",
           "radialaxis": {
            "gridcolor": "white",
            "linecolor": "white",
            "ticks": ""
           }
          },
          "scene": {
           "xaxis": {
            "backgroundcolor": "#E5ECF6",
            "gridcolor": "white",
            "gridwidth": 2,
            "linecolor": "white",
            "showbackground": true,
            "ticks": "",
            "zerolinecolor": "white"
           },
           "yaxis": {
            "backgroundcolor": "#E5ECF6",
            "gridcolor": "white",
            "gridwidth": 2,
            "linecolor": "white",
            "showbackground": true,
            "ticks": "",
            "zerolinecolor": "white"
           },
           "zaxis": {
            "backgroundcolor": "#E5ECF6",
            "gridcolor": "white",
            "gridwidth": 2,
            "linecolor": "white",
            "showbackground": true,
            "ticks": "",
            "zerolinecolor": "white"
           }
          },
          "shapedefaults": {
           "line": {
            "color": "#2a3f5f"
           }
          },
          "ternary": {
           "aaxis": {
            "gridcolor": "white",
            "linecolor": "white",
            "ticks": ""
           },
           "baxis": {
            "gridcolor": "white",
            "linecolor": "white",
            "ticks": ""
           },
           "bgcolor": "#E5ECF6",
           "caxis": {
            "gridcolor": "white",
            "linecolor": "white",
            "ticks": ""
           }
          },
          "title": {
           "x": 0.05
          },
          "xaxis": {
           "automargin": true,
           "gridcolor": "white",
           "linecolor": "white",
           "ticks": "",
           "title": {
            "standoff": 15
           },
           "zerolinecolor": "white",
           "zerolinewidth": 2
          },
          "yaxis": {
           "automargin": true,
           "gridcolor": "white",
           "linecolor": "white",
           "ticks": "",
           "title": {
            "standoff": 15
           },
           "zerolinecolor": "white",
           "zerolinewidth": 2
          }
         }
        },
        "xaxis": {
         "anchor": "y",
         "domain": [
          0,
          1
         ],
         "title": {
          "text": "salaire mensuel"
         }
        },
        "yaxis": {
         "anchor": "x",
         "domain": [
          0,
          1
         ],
         "title": {
          "text": "ppa"
         }
        }
       }
      }
     },
     "metadata": {},
     "output_type": "display_data"
    }
   ],
   "source": [
    "px.line(df_resultats_simu_ppa, x='salaire mensuel', y='ppa')"
   ]
  },
  {
   "cell_type": "markdown",
   "metadata": {},
   "source": [
    "Effet de l'augmentation de revenus sur la prime d'activité : on perd 39% de l'augmentation."
   ]
  },
  {
   "cell_type": "code",
   "execution_count": 48,
   "metadata": {},
   "outputs": [
    {
     "data": {
      "text/plain": [
       "array([-0.39000082, -0.38999653, -0.3900013 , -0.39000225, -0.38999844,\n",
       "       -0.3900013 , -0.39000225, -0.3900013 , -0.38999367, -0.3899994 ,\n",
       "       -0.39000702, -0.38999748, -0.38999367, -0.3899994 , -0.39000416,\n",
       "       -0.38999748, -0.38999653, -0.3900032 , -0.3900032 , -0.38999796,\n",
       "       -0.3899989 , -0.39000368, -0.38999557, -0.3899901 ], dtype=float32)"
      ]
     },
     "execution_count": 48,
     "metadata": {},
     "output_type": "execute_result"
    }
   ],
   "source": [
    "df_red = df_resultats_simu_ppa[df_resultats_simu_ppa['salaire mensuel'] < 2000]\n",
    "df_red =df_red[df_red['salaire mensuel'] > 1500]\n",
    "np.gradient(df_red['ppa'], df_red['salaire mensuel'])"
   ]
  }
 ],
 "metadata": {
  "kernelspec": {
   "display_name": "openfisca",
   "language": "python",
   "name": "python3"
  },
  "language_info": {
   "codemirror_mode": {
    "name": "ipython",
    "version": 3
   },
   "file_extension": ".py",
   "mimetype": "text/x-python",
   "name": "python",
   "nbconvert_exporter": "python",
   "pygments_lexer": "ipython3",
   "version": "3.9.20"
  }
 },
 "nbformat": 4,
 "nbformat_minor": 2
}
