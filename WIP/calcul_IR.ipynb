{
 "cells": [
  {
   "cell_type": "code",
   "execution_count": null,
   "id": "45f5cf1d",
   "metadata": {
    "vscode": {
     "languageId": "plaintext"
    }
   },
   "outputs": [],
   "source": [
    "from openfisca_core import Simulation\n",
    "from openfisca_france import FranceTaxBenefitSystem\n",
    "import pandas as pd\n",
    "\n",
    "def calculer_impot_revenu_openfisca(revenus_salariaux_couple):\n",
    "    \"\"\"\n",
    "    Calcule l'impôt sur le revenu pour un couple avec deux enfants en utilisant OpenFisca.\n",
    "\n",
    "    Args:\n",
    "        revenus_salariaux_couple (float): Le revenu salarial annuel du couple.\n",
    "\n",
    "    Returns:\n",
    "        float: Le montant de l'impôt sur le revenu à payer.\n",
    "    \"\"\"\n",
    "    # 1. Définir le système socio-fiscal\n",
    "    tax_benefit_system = FranceTaxBenefitSystem()\n",
    "\n",
    "    # 2. Définir les paramètres du calcul\n",
    "    #    a. Date de simulation (année de référence pour la législation fiscale)\n",
    "    annee_simulation = 2024  # Exemple : Utilisation de la législation 2024\n",
    "    dates = [f'{annee_simulation}-01-01', f'{annee_simulation}-12-31']\n",
    "\n",
    "    #    b. Créer undictionnaire avec les données du ménage\n",
    "    donnees_menage = {\n",
    "        'individu': {\n",
    "            'salaire': [revenus_salariaux_couple / 2, revenus_salariaux_couple / 2],  # Diviser le revenu entre les deux conjoints\n",
    "            'date_de_naissance': ['1990-01-01', '1988-06-15'], # Dates de naissance fictives\n",
    "        },\n",
    "        'famille': {\n",
    "            'enfants': [[0, 1]],  # Les individus 0 et 1 ont 2 enfants.\n",
    "        },\n",
    "        'menage': {\n",
    "            'personne_de_reference': [0],  # L'individu 0 est la personne de référence du ménage\n",
    "            'residence_principale': [True],\n",
    "        },\n",
    "    }\n",
    "\n",
    "    # 3. Créer la simulation OpenFisca\n",
    "    simulation = Simulation(tax_benefit_system, data=donnees_menage,  raise_warnings=False, dates=dates)\n",
    "\n",
    "    # 4. Calculer l'impôt sur le revenu\n",
    "    impot_sur_le_revenu = simulation.calculate('impot_sur_le_revenu', dates)[dates[0]]\n",
    "    #Il faut caster le résultat de numpy en float\n",
    "    return float(impot_sur_le_revenu[0])\n",
    "\n",
    "def main():\n",
    "    \"\"\"\n",
    "    Fonction principale pour exécuter le calcul de l'impôt avec OpenFisca.\n",
    "    \"\"\"\n",
    "    # Exemple d'utilisation :\n",
    "    revenus_salariaux_couple = 60000  # Revenus salariaux annuels du couple\n",
    "    impot_a_payer = calculer_impot_revenu_openfisca(revenus_salariaux_couple)\n",
    "    print(f\"Pour un couple avec deux enfants et un revenu salarial de {revenus_salariaux_couple} €, l'impôt sur le revenu calculé par OpenFisca est de {impot_a_payer:.2f} €.\")\n",
    "\n",
    "\n",
    "    main()\n"
   ]
  }
 ],
 "metadata": {
  "language_info": {
   "name": "python"
  }
 },
 "nbformat": 4,
 "nbformat_minor": 5
}
